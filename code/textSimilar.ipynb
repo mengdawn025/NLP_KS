{
 "cells": [
  {
   "cell_type": "code",
   "execution_count": 3,
   "metadata": {},
   "outputs": [
    {
     "data": {
      "application/vnd.jupyter.widget-view+json": {
       "model_id": "e745b150c69348f8b453fc867886664f",
       "version_major": 2,
       "version_minor": 0
      },
      "text/plain": [
       "Downloading:   0%|          | 0.00/645 [00:00<?, ?B/s]"
      ]
     },
     "metadata": {},
     "output_type": "display_data"
    },
    {
     "data": {
      "application/vnd.jupyter.widget-view+json": {
       "model_id": "5a8f29dea4ff41b69783ffb1aa1557a0",
       "version_major": 2,
       "version_minor": 0
      },
      "text/plain": [
       "Downloading:   0%|          | 0.00/9.08M [00:00<?, ?B/s]"
      ]
     },
     "metadata": {},
     "output_type": "display_data"
    },
    {
     "data": {
      "application/vnd.jupyter.widget-view+json": {
       "model_id": "500cbb173ee9417cb892ac781becbd60",
       "version_major": 2,
       "version_minor": 0
      },
      "text/plain": [
       "Downloading:   0%|          | 0.00/239 [00:00<?, ?B/s]"
      ]
     },
     "metadata": {},
     "output_type": "display_data"
    },
    {
     "data": {
      "application/vnd.jupyter.widget-view+json": {
       "model_id": "0af0f8fb2d6f41198286970adfd4ad64",
       "version_major": 2,
       "version_minor": 0
      },
      "text/plain": [
       "Downloading:   0%|          | 0.00/471M [00:00<?, ?B/s]"
      ]
     },
     "metadata": {},
     "output_type": "display_data"
    },
    {
     "name": "stderr",
     "output_type": "stream",
     "text": [
      "2022-11-03 16:55:58.261 | DEBUG    | text2vec.sentence_model:__init__:74 - Use device: cpu\n"
     ]
    }
   ],
   "source": [
    "from text2vec import Similarity\n",
    "sim = Similarity()"
   ]
  },
  {
   "cell_type": "code",
   "execution_count": 4,
   "metadata": {},
   "outputs": [
    {
     "name": "stderr",
     "output_type": "stream",
     "text": [
      "D:\\Anaconda3\\envs\\NLP\\lib\\site-packages\\ipykernel_launcher.py:6: DeprecationWarning: Call to deprecated `get_score` (Use similarities instead, `pip install similarities`).\n",
      "  \n"
     ]
    },
    {
     "name": "stdout",
     "output_type": "stream",
     "text": [
      "0.4353681604067485\n"
     ]
    }
   ],
   "source": [
    "data = ['自是圣朝恩泽溥','然明未必都相识','语经重译总差讹','言语不须愁鴂舌','处己谦虚世莫京','理有小异分毫芒']\n",
    "score = 0\n",
    "for i in range(len(data)-1):\n",
    "    a = data[i]\n",
    "    b = data[i+1]\n",
    "    s = sim.get_score(a, b)\n",
    "    score += s\n",
    "score /= 6\n",
    "print(score)"
   ]
  },
  {
   "cell_type": "code",
   "execution_count": 5,
   "metadata": {},
   "outputs": [
    {
     "name": "stderr",
     "output_type": "stream",
     "text": [
      "D:\\Anaconda3\\envs\\NLP\\lib\\site-packages\\ipykernel_launcher.py:6: DeprecationWarning: Call to deprecated `get_score` (Use similarities instead, `pip install similarities`).\n",
      "  \n"
     ]
    },
    {
     "name": "stdout",
     "output_type": "stream",
     "text": [
      "0.4836152096589406\n"
     ]
    }
   ],
   "source": [
    "data = ['自笑语兮冷鼓溪','然明珠璃拂底用','语经旬拜能销横','言语兮大邱社雪','处处国轮衔礁枝','理有君较湾流瞻']\n",
    "score = 0\n",
    "for i in range(len(data)-1):\n",
    "    a = data[i]\n",
    "    b = data[i+1]\n",
    "    s = sim.get_score(a, b)\n",
    "    score += s\n",
    "score /= 6\n",
    "print(score)"
   ]
  },
  {
   "cell_type": "code",
   "execution_count": 6,
   "metadata": {},
   "outputs": [
    {
     "name": "stderr",
     "output_type": "stream",
     "text": [
      "D:\\Anaconda3\\envs\\NLP\\lib\\site-packages\\ipykernel_launcher.py:6: DeprecationWarning: Call to deprecated `get_score` (Use similarities instead, `pip install similarities`).\n",
      "  \n"
     ]
    },
    {
     "name": "stdout",
     "output_type": "stream",
     "text": [
      "0.3839646726846695\n"
     ]
    }
   ],
   "source": [
    "data = ['自有蛮儿能汉语','然明未必都相识','语经重译总差讹','言语不须愁鴂舌','处约无求说项斯','理学闽南自洛车']\n",
    "score = 0\n",
    "for i in range(len(data)-1):\n",
    "    a = data[i]\n",
    "    b = data[i+1]\n",
    "    s = sim.get_score(a, b)\n",
    "    score += s\n",
    "score /= 6\n",
    "print(score)"
   ]
  },
  {
   "cell_type": "code",
   "execution_count": 7,
   "metadata": {},
   "outputs": [
    {
     "name": "stderr",
     "output_type": "stream",
     "text": [
      "D:\\Anaconda3\\envs\\NLP\\lib\\site-packages\\ipykernel_launcher.py:6: DeprecationWarning: Call to deprecated `get_score` (Use similarities instead, `pip install similarities`).\n",
      "  \n"
     ]
    },
    {
     "name": "stdout",
     "output_type": "stream",
     "text": [
      "0.5006684362888336\n"
     ]
    }
   ],
   "source": [
    "data = ['自今此此敢乐往','然画眼夏尽移望','语知不台心宛争','言间偏赋曾曾日','处逢今无逢忽逢','理家凭朝翠天翠']\n",
    "score = 0\n",
    "for i in range(len(data)-1):\n",
    "    a = data[i]\n",
    "    b = data[i+1]\n",
    "    s = sim.get_score(a, b)\n",
    "    score += s\n",
    "score /= 6\n",
    "print(score)"
   ]
  },
  {
   "cell_type": "code",
   "execution_count": 8,
   "metadata": {},
   "outputs": [
    {
     "name": "stderr",
     "output_type": "stream",
     "text": [
      "D:\\Anaconda3\\envs\\NLP\\lib\\site-packages\\ipykernel_launcher.py:6: DeprecationWarning: Call to deprecated `get_score` (Use similarities instead, `pip install similarities`).\n",
      "  \n"
     ]
    },
    {
     "name": "stdout",
     "output_type": "stream",
     "text": [
      "0.561728502313296\n"
     ]
    }
   ],
   "source": [
    "data = ['自来应此龙解应','然明台知见知即','语情易宜墨知成','言有此有有如如','处来笔知休休隔','理然有别天空争']\n",
    "score = 0\n",
    "for i in range(len(data)-1):\n",
    "    a = data[i]\n",
    "    b = data[i+1]\n",
    "    s = sim.get_score(a, b)\n",
    "    score += s\n",
    "score /= 6\n",
    "print(score)"
   ]
  },
  {
   "cell_type": "code",
   "execution_count": 9,
   "metadata": {},
   "outputs": [
    {
     "name": "stderr",
     "output_type": "stream",
     "text": [
      "D:\\Anaconda3\\envs\\NLP\\lib\\site-packages\\ipykernel_launcher.py:6: DeprecationWarning: Call to deprecated `get_score` (Use similarities instead, `pip install similarities`).\n",
      "  \n"
     ]
    },
    {
     "name": "stdout",
     "output_type": "stream",
     "text": [
      "0.5168561935424805\n"
     ]
    }
   ],
   "source": [
    "data = ['自来诸君到别去','然逢有未风乐乐','语今读故闻今乐','言后不不名易不','处从地长极今有','理有来明前知万']\n",
    "score = 0\n",
    "for i in range(len(data)-1):\n",
    "    a = data[i]\n",
    "    b = data[i+1]\n",
    "    s = sim.get_score(a, b)\n",
    "    score += s\n",
    "score /= 6\n",
    "print(score)"
   ]
  },
  {
   "cell_type": "code",
   "execution_count": null,
   "metadata": {},
   "outputs": [],
   "source": []
  }
 ],
 "metadata": {
  "kernelspec": {
   "display_name": "Python 3 (ipykernel)",
   "language": "python",
   "name": "python3"
  },
  "language_info": {
   "codemirror_mode": {
    "name": "ipython",
    "version": 3
   },
   "file_extension": ".py",
   "mimetype": "text/x-python",
   "name": "python",
   "nbconvert_exporter": "python",
   "pygments_lexer": "ipython3",
   "version": "3.8.6"
  },
  "vscode": {
   "interpreter": {
    "hash": "85ad5e3f658df10a348b2c4bce0efb8f62276ea26564ae3f712af45ed083858c"
   }
  }
 },
 "nbformat": 4,
 "nbformat_minor": 2
}
